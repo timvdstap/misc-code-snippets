{
  "nbformat": 4,
  "nbformat_minor": 0,
  "metadata": {
    "colab": {
      "provenance": [],
      "authorship_tag": "ABX9TyM6xsLTADhvanxVllrxajIP",
      "include_colab_link": true
    },
    "kernelspec": {
      "name": "ir",
      "display_name": "R"
    },
    "language_info": {
      "name": "R"
    }
  },
  "cells": [
    {
      "cell_type": "markdown",
      "metadata": {
        "id": "view-in-github",
        "colab_type": "text"
      },
      "source": [
        "<a href=\"https://colab.research.google.com/github/timvdstap/misc-code-snippets/blob/main/Querying_Biological_DataServices.ipynb\" target=\"_parent\"><img src=\"https://colab.research.google.com/assets/colab-badge.svg\" alt=\"Open In Colab\"/></a>"
      ]
    },
    {
      "cell_type": "markdown",
      "source": [
        "The following is an Rmarkdown file based on Stephen Formel's (USGS) blogpost: https://www.gbif.us/post/2024/searching-with-aphiaids/. My goal here is to use this approach and code to show the occurrences of basking sharks (Cetorhinus maximus) in Canadian waters. Let's first install and load the relevant packages:"
      ],
      "metadata": {
        "id": "_veL8krrbTPa"
      }
    },
    {
      "cell_type": "code",
      "execution_count": null,
      "metadata": {
        "colab": {
          "base_uri": "https://localhost:8080/"
        },
        "id": "zxLzildZbPRe",
        "outputId": "8e1e24d1-8af9-4453-9ee4-e243d3b0a98d"
      },
      "outputs": [
        {
          "output_type": "stream",
          "name": "stderr",
          "text": [
            "Installing packages into ‘/usr/local/lib/R/site-library’\n",
            "(as ‘lib’ is unspecified)\n",
            "\n",
            "Warning message:\n",
            "“package ‘mregions2’ is not available for this version of R\n",
            "\n",
            "A version of this package for your version of R might be available elsewhere,\n",
            "see the ideas at\n",
            "https://cran.r-project.org/doc/manuals/r-patched/R-admin.html#Installing-packages”\n",
            "also installing the dependencies ‘geometries’, ‘jsonify’, ‘rapidjsonr’, ‘sfheaders’, ‘xfun’, ‘proxy’, ‘triebeard’, ‘geojsonsf’, ‘leafpop’, ‘satellite’, ‘servr’, ‘httpuv’, ‘xtable’, ‘sourcetools’, ‘later’, ‘promises’, ‘e1071’, ‘urltools’, ‘httpcode’, ‘crosstalk’, ‘htmlwidgets’, ‘leaflet.providers’, ‘png’, ‘raster’, ‘sp’, ‘leafem’, ‘leaflet.extras’, ‘leafpm’, ‘mapview’, ‘miniUI’, ‘shiny’, ‘plyr’, ‘markdown’, ‘jpeg’, ‘classInt’, ‘Rcpp’, ‘s2’, ‘units’, ‘crul’, ‘terra’, ‘duckdb’, ‘contentid’, ‘leaflet’, ‘httpcache’, ‘mapedit’, ‘oai’, ‘lazyeval’, ‘gridtext’\n",
            "\n",
            "\n"
          ]
        }
      ],
      "source": [
        "list_of_packages <- c(\"dplyr\", \"mregions2\", \"sf\", \"wk\", \"worrms\", \"httr2\", \"tidyr\", \"ggplot2\", \"rnaturalearth\",\n",
        "                      \"rfishbase\", \"robis\", \"rgbif\", \"stringr\", \"ggtext\")\n",
        "new_packages <- list_of_packages[!(list_of_packages %in% installed.packages()[,\"Package\"])]\n",
        "if(length(new_packages)) install.packages(new_packages)\n",
        "\n",
        "library(dplyr)\n",
        "library(mregions2)\n",
        "library(sf)\n",
        "library(wk)\n",
        "library(worrms)\n",
        "library(httr2)\n",
        "library(tidyr)\n",
        "library(ggplot2)\n",
        "library(rnaturalearth)\n",
        "library(rfishbase)\n",
        "library(robis)\n",
        "library(rgbif)\n",
        "library(stringr)\n",
        "library(ggtext)"
      ]
    },
    {
      "cell_type": "markdown",
      "source": [
        "You need the following code to install and load the mregions2 package"
      ],
      "metadata": {
        "id": "f8GSD_E2cNBp"
      }
    },
    {
      "cell_type": "code",
      "source": [
        "install.packages(\"devtools\")\n",
        "devtools::install_github(\"lifewatch/mregions2\")"
      ],
      "metadata": {
        "id": "BhCX1VO1cShw"
      },
      "execution_count": null,
      "outputs": []
    },
    {
      "cell_type": "markdown",
      "source": [
        "Next, let's have a look at the basking shark distribution within the Canadian EEZ"
      ],
      "metadata": {
        "id": "93J3lAPnb1JS"
      }
    },
    {
      "cell_type": "code",
      "source": [
        "AphiaID <- worrms::wm_name2id(name = \"Cetorhinus maximus\")\n",
        "\n",
        "fishbaseID <- httr2::request(base_url = \"https://www.marinespecies.org/rest/AphiaExternalIDByAphiaID/\") %>%\n",
        "  httr2::req_url_path_append(AphiaID) %>%\n",
        "  httr2::req_url_query(`type` = 'fishbase') %>%\n",
        "  httr2::req_perform() %>%\n",
        "  httr2::resp_body_json() %>%\n",
        "  unlist()\n",
        "\n",
        "sourceID <- paste0('urn:lsid:marinespecies.org:taxname:', AphiaID)\n",
        "\n",
        "response <- httr2::request(base_url = 'https://api.gbif.org/v1/species') %>%\n",
        "  httr2::req_url_query(`datasetKey` = '2d59e5db-57ad-41ff-97d6-11f5fb264527',\n",
        "                       `sourceID` = 'urn:lsid:marinespecies.org:taxname:105837') %>%\n",
        "  httr2::req_perform() %>%\n",
        "  resp_body_json()\n",
        "\n",
        "GBIF_backboneID <- response$results[[1]]$nubKey"
      ],
      "metadata": {
        "id": "Ss1t5o-8b_oC"
      },
      "execution_count": null,
      "outputs": []
    }
  ]
}